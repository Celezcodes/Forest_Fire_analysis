{
  "nbformat": 4,
  "nbformat_minor": 0,
  "metadata": {
    "colab": {
      "name": "Forest_Fire.ipynb",
      "provenance": [],
      "collapsed_sections": []
    },
    "kernelspec": {
      "name": "python3",
      "display_name": "Python 3"
    },
    "language_info": {
      "name": "python"
    }
  },
  "cells": [
    {
      "cell_type": "code",
      "metadata": {
        "id": "HH9KS03k4E7M"
      },
      "source": [
        "import pandas as pd\n",
        "import numpy as np\n",
        "import seaborn as sb\n",
        "import matplotlib.pyplot as plt"
      ],
      "execution_count": 1,
      "outputs": []
    },
    {
      "cell_type": "code",
      "metadata": {
        "colab": {
          "resources": {
            "http://localhost:8080/nbextensions/google.colab/files.js": {
              "data": "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",
              "ok": true,
              "headers": [
                [
                  "content-type",
                  "application/javascript"
                ]
              ],
              "status": 200,
              "status_text": ""
            }
          },
          "base_uri": "https://localhost:8080/",
          "height": 89
        },
        "id": "icBxqJzR4Y5k",
        "outputId": "ecc1fd0c-578a-4922-940e-f08d48081fda"
      },
      "source": [
        "from google.colab import files\n",
        "uploaded = files.upload()\n",
        "for fn in uploaded.keys():\n",
        "  print(\"user uploaded file {name} with length {length} bytes\".format(name=fn, length=len(uploaded[fn])))"
      ],
      "execution_count": 2,
      "outputs": [
        {
          "output_type": "display_data",
          "data": {
            "text/html": [
              "\n",
              "     <input type=\"file\" id=\"files-f42b9da1-790c-4171-aa7e-dbc0d1024fd3\" name=\"files[]\" multiple disabled\n",
              "        style=\"border:none\" />\n",
              "     <output id=\"result-f42b9da1-790c-4171-aa7e-dbc0d1024fd3\">\n",
              "      Upload widget is only available when the cell has been executed in the\n",
              "      current browser session. Please rerun this cell to enable.\n",
              "      </output>\n",
              "      <script src=\"/nbextensions/google.colab/files.js\"></script> "
            ],
            "text/plain": [
              "<IPython.core.display.HTML object>"
            ]
          },
          "metadata": {}
        },
        {
          "output_type": "stream",
          "name": "stdout",
          "text": [
            "Saving Forest_fire.csv to Forest_fire.csv\n",
            "user uploaded file Forest_fire.csv with length 662 bytes\n"
          ]
        }
      ]
    },
    {
      "cell_type": "code",
      "metadata": {
        "id": "qGdgBLV940zk"
      },
      "source": [
        "df = pd.read_csv(r\"Forest_fire.csv\")"
      ],
      "execution_count": 8,
      "outputs": []
    },
    {
      "cell_type": "code",
      "metadata": {
        "colab": {
          "base_uri": "https://localhost:8080/",
          "height": 204
        },
        "id": "N-DzV67m5cTn",
        "outputId": "0b1873db-f126-4782-ffa3-2a7d3d02f9a9"
      },
      "source": [
        "df.head()"
      ],
      "execution_count": 9,
      "outputs": [
        {
          "output_type": "execute_result",
          "data": {
            "text/html": [
              "<div>\n",
              "<style scoped>\n",
              "    .dataframe tbody tr th:only-of-type {\n",
              "        vertical-align: middle;\n",
              "    }\n",
              "\n",
              "    .dataframe tbody tr th {\n",
              "        vertical-align: top;\n",
              "    }\n",
              "\n",
              "    .dataframe thead th {\n",
              "        text-align: right;\n",
              "    }\n",
              "</style>\n",
              "<table border=\"1\" class=\"dataframe\">\n",
              "  <thead>\n",
              "    <tr style=\"text-align: right;\">\n",
              "      <th></th>\n",
              "      <th>Area</th>\n",
              "      <th>Oxygen</th>\n",
              "      <th>Temperature</th>\n",
              "      <th>Humidity</th>\n",
              "      <th>Fire Occurrence</th>\n",
              "    </tr>\n",
              "  </thead>\n",
              "  <tbody>\n",
              "    <tr>\n",
              "      <th>0</th>\n",
              "      <td>Jharkand</td>\n",
              "      <td>40</td>\n",
              "      <td>45</td>\n",
              "      <td>20</td>\n",
              "      <td>1</td>\n",
              "    </tr>\n",
              "    <tr>\n",
              "      <th>1</th>\n",
              "      <td>Bangalore</td>\n",
              "      <td>50</td>\n",
              "      <td>30</td>\n",
              "      <td>10</td>\n",
              "      <td>1</td>\n",
              "    </tr>\n",
              "    <tr>\n",
              "      <th>2</th>\n",
              "      <td>Ecuador</td>\n",
              "      <td>10</td>\n",
              "      <td>20</td>\n",
              "      <td>70</td>\n",
              "      <td>0</td>\n",
              "    </tr>\n",
              "    <tr>\n",
              "      <th>3</th>\n",
              "      <td>a</td>\n",
              "      <td>60</td>\n",
              "      <td>45</td>\n",
              "      <td>70</td>\n",
              "      <td>1</td>\n",
              "    </tr>\n",
              "    <tr>\n",
              "      <th>4</th>\n",
              "      <td>Bangalore</td>\n",
              "      <td>30</td>\n",
              "      <td>48</td>\n",
              "      <td>10</td>\n",
              "      <td>1</td>\n",
              "    </tr>\n",
              "  </tbody>\n",
              "</table>\n",
              "</div>"
            ],
            "text/plain": [
              "        Area  Oxygen  Temperature  Humidity  Fire Occurrence\n",
              "0   Jharkand      40           45        20                1\n",
              "1  Bangalore      50           30        10                1\n",
              "2    Ecuador      10           20        70                0\n",
              "3          a      60           45        70                1\n",
              "4  Bangalore      30           48        10                1"
            ]
          },
          "metadata": {},
          "execution_count": 9
        }
      ]
    },
    {
      "cell_type": "code",
      "metadata": {
        "colab": {
          "base_uri": "https://localhost:8080/"
        },
        "id": "saOPpI8e5ig8",
        "outputId": "650c8cd6-e642-4728-e7cd-a12863ebfc35"
      },
      "source": [
        "!pip install dtale "
      ],
      "execution_count": 10,
      "outputs": [
        {
          "output_type": "stream",
          "name": "stdout",
          "text": [
            "Collecting dtale\n",
            "  Downloading dtale-1.56.0-py2.py3-none-any.whl (10.9 MB)\n",
            "\u001b[K     |████████████████████████████████| 10.9 MB 4.0 MB/s \n",
            "\u001b[?25hRequirement already satisfied: xarray in /usr/local/lib/python3.7/dist-packages (from dtale) (0.18.2)\n",
            "Collecting squarify\n",
            "  Downloading squarify-0.4.3-py3-none-any.whl (4.3 kB)\n",
            "Requirement already satisfied: future>=0.14.0 in /usr/local/lib/python3.7/dist-packages (from dtale) (0.16.0)\n",
            "Collecting strsimpy\n",
            "  Downloading strsimpy-0.2.1-py3-none-any.whl (45 kB)\n",
            "\u001b[K     |████████████████████████████████| 45 kB 4.6 MB/s \n",
            "\u001b[?25hRequirement already satisfied: scipy in /usr/local/lib/python3.7/dist-packages (from dtale) (1.4.1)\n",
            "Collecting plotly>=5.0.0\n",
            "  Downloading plotly-5.3.1-py2.py3-none-any.whl (23.9 MB)\n",
            "\u001b[K     |████████████████████████████████| 23.9 MB 14 kB/s \n",
            "\u001b[?25hRequirement already satisfied: pandas in /usr/local/lib/python3.7/dist-packages (from dtale) (1.1.5)\n",
            "Requirement already satisfied: requests in /usr/local/lib/python3.7/dist-packages (from dtale) (2.23.0)\n",
            "Collecting lz4\n",
            "  Downloading lz4-3.1.3-cp37-cp37m-manylinux2010_x86_64.whl (1.8 MB)\n",
            "\u001b[K     |████████████████████████████████| 1.8 MB 46.8 MB/s \n",
            "\u001b[?25hRequirement already satisfied: scikit-learn in /usr/local/lib/python3.7/dist-packages (from dtale) (0.22.2.post1)\n",
            "Collecting dash-colorscales\n",
            "  Downloading dash_colorscales-0.0.4.tar.gz (62 kB)\n",
            "\u001b[K     |████████████████████████████████| 62 kB 1.2 MB/s \n",
            "\u001b[?25hCollecting kaleido\n",
            "  Downloading kaleido-0.2.1-py2.py3-none-manylinux1_x86_64.whl (79.9 MB)\n",
            "\u001b[K     |████████████████████████████████| 79.9 MB 81 kB/s \n",
            "\u001b[?25hCollecting flask-ngrok\n",
            "  Downloading flask_ngrok-0.0.25-py3-none-any.whl (3.1 kB)\n",
            "Requirement already satisfied: openpyxl in /usr/local/lib/python3.7/dist-packages (from dtale) (2.5.9)\n",
            "Requirement already satisfied: matplotlib in /usr/local/lib/python3.7/dist-packages (from dtale) (3.2.2)\n",
            "Requirement already satisfied: xlrd in /usr/local/lib/python3.7/dist-packages (from dtale) (1.1.0)\n",
            "Requirement already satisfied: Flask in /usr/local/lib/python3.7/dist-packages (from dtale) (1.1.4)\n",
            "Collecting ppscore\n",
            "  Downloading ppscore-1.2.0.tar.gz (47 kB)\n",
            "\u001b[K     |████████████████████████████████| 47 kB 5.1 MB/s \n",
            "\u001b[?25hRequirement already satisfied: et-xmlfile in /usr/local/lib/python3.7/dist-packages (from dtale) (1.1.0)\n",
            "Requirement already satisfied: statsmodels in /usr/local/lib/python3.7/dist-packages (from dtale) (0.10.2)\n",
            "Collecting Flask-Compress\n",
            "  Downloading Flask_Compress-1.10.1-py3-none-any.whl (7.9 kB)\n",
            "Collecting dash-bootstrap-components\n",
            "  Downloading dash_bootstrap_components-0.13.0-py3-none-any.whl (197 kB)\n",
            "\u001b[K     |████████████████████████████████| 197 kB 70.4 MB/s \n",
            "\u001b[?25hRequirement already satisfied: numpy in /usr/local/lib/python3.7/dist-packages (from dtale) (1.19.5)\n",
            "Requirement already satisfied: seaborn in /usr/local/lib/python3.7/dist-packages (from dtale) (0.11.2)\n",
            "Collecting dash-daq\n",
            "  Downloading dash_daq-0.5.0.tar.gz (642 kB)\n",
            "\u001b[K     |████████████████████████████████| 642 kB 77.8 MB/s \n",
            "\u001b[?25hCollecting dash>=1.5.0\n",
            "  Downloading dash-2.0.0-py3-none-any.whl (7.3 MB)\n",
            "\u001b[K     |████████████████████████████████| 7.3 MB 47.4 MB/s \n",
            "\u001b[?25hRequirement already satisfied: itsdangerous in /usr/local/lib/python3.7/dist-packages (from dtale) (1.1.0)\n",
            "Collecting missingno<=0.4.2\n",
            "  Downloading missingno-0.4.2-py3-none-any.whl (9.7 kB)\n",
            "Requirement already satisfied: six in /usr/local/lib/python3.7/dist-packages (from dtale) (1.15.0)\n",
            "Requirement already satisfied: networkx in /usr/local/lib/python3.7/dist-packages (from dtale) (2.6.3)\n",
            "Collecting dash-html-components==2.0.0\n",
            "  Downloading dash_html_components-2.0.0.tar.gz (3.8 kB)\n",
            "Collecting dash-core-components==2.0.0\n",
            "  Downloading dash_core_components-2.0.0.tar.gz (3.4 kB)\n",
            "Collecting dash-table==5.0.0\n",
            "  Downloading dash_table-5.0.0.tar.gz (3.4 kB)\n",
            "Requirement already satisfied: click<8.0,>=5.1 in /usr/local/lib/python3.7/dist-packages (from Flask->dtale) (7.1.2)\n",
            "Requirement already satisfied: Jinja2<3.0,>=2.10.1 in /usr/local/lib/python3.7/dist-packages (from Flask->dtale) (2.11.3)\n",
            "Requirement already satisfied: Werkzeug<2.0,>=0.15 in /usr/local/lib/python3.7/dist-packages (from Flask->dtale) (1.0.1)\n",
            "Requirement already satisfied: MarkupSafe>=0.23 in /usr/local/lib/python3.7/dist-packages (from Jinja2<3.0,>=2.10.1->Flask->dtale) (2.0.1)\n",
            "Collecting tenacity>=6.2.0\n",
            "  Downloading tenacity-8.0.1-py3-none-any.whl (24 kB)\n",
            "Collecting brotli\n",
            "  Downloading Brotli-1.0.9-cp37-cp37m-manylinux1_x86_64.whl (357 kB)\n",
            "\u001b[K     |████████████████████████████████| 357 kB 75.5 MB/s \n",
            "\u001b[?25hRequirement already satisfied: kiwisolver>=1.0.1 in /usr/local/lib/python3.7/dist-packages (from matplotlib->dtale) (1.3.2)\n",
            "Requirement already satisfied: python-dateutil>=2.1 in /usr/local/lib/python3.7/dist-packages (from matplotlib->dtale) (2.8.2)\n",
            "Requirement already satisfied: cycler>=0.10 in /usr/local/lib/python3.7/dist-packages (from matplotlib->dtale) (0.10.0)\n",
            "Requirement already satisfied: pyparsing!=2.0.4,!=2.1.2,!=2.1.6,>=2.0.1 in /usr/local/lib/python3.7/dist-packages (from matplotlib->dtale) (2.4.7)\n",
            "Requirement already satisfied: jdcal in /usr/local/lib/python3.7/dist-packages (from openpyxl->dtale) (1.4.1)\n",
            "Requirement already satisfied: pytz>=2017.2 in /usr/local/lib/python3.7/dist-packages (from pandas->dtale) (2018.9)\n",
            "Requirement already satisfied: joblib>=0.11 in /usr/local/lib/python3.7/dist-packages (from scikit-learn->dtale) (1.0.1)\n",
            "Requirement already satisfied: idna<3,>=2.5 in /usr/local/lib/python3.7/dist-packages (from requests->dtale) (2.10)\n",
            "Requirement already satisfied: chardet<4,>=3.0.2 in /usr/local/lib/python3.7/dist-packages (from requests->dtale) (3.0.4)\n",
            "Requirement already satisfied: certifi>=2017.4.17 in /usr/local/lib/python3.7/dist-packages (from requests->dtale) (2021.5.30)\n",
            "Requirement already satisfied: urllib3!=1.25.0,!=1.25.1,<1.26,>=1.21.1 in /usr/local/lib/python3.7/dist-packages (from requests->dtale) (1.24.3)\n",
            "Requirement already satisfied: patsy>=0.4.0 in /usr/local/lib/python3.7/dist-packages (from statsmodels->dtale) (0.5.1)\n",
            "Requirement already satisfied: setuptools>=40.4 in /usr/local/lib/python3.7/dist-packages (from xarray->dtale) (57.4.0)\n",
            "Building wheels for collected packages: dash-core-components, dash-html-components, dash-table, dash-colorscales, dash-daq, ppscore\n",
            "  Building wheel for dash-core-components (setup.py) ... \u001b[?25l\u001b[?25hdone\n",
            "  Created wheel for dash-core-components: filename=dash_core_components-2.0.0-py3-none-any.whl size=3821 sha256=57219381037878610cc3ea47aef028cc6a3463cf2f6eaa3c831d6fbad1fa579d\n",
            "  Stored in directory: /root/.cache/pip/wheels/00/f9/c7/1a6437d794ed753ea9bc9079e761d4fc803a1f1f5d3697b9ec\n",
            "  Building wheel for dash-html-components (setup.py) ... \u001b[?25l\u001b[?25hdone\n",
            "  Created wheel for dash-html-components: filename=dash_html_components-2.0.0-py3-none-any.whl size=4089 sha256=77505a0b75ec28e4c6c8e8ad82850e2dee78410793e578253f51ae3fbc8c51ab\n",
            "  Stored in directory: /root/.cache/pip/wheels/ec/6b/81/05aceabd8b27f724e2c96784016287cc1bfbc349ebfda451de\n",
            "  Building wheel for dash-table (setup.py) ... \u001b[?25l\u001b[?25hdone\n",
            "  Created wheel for dash-table: filename=dash_table-5.0.0-py3-none-any.whl size=3911 sha256=47d3210940fcadc5c91e33678a43d26343ee5062a305ebda6d28878e5cdce72a\n",
            "  Stored in directory: /root/.cache/pip/wheels/85/5d/4e/7c276b57992951dbe770bf5caad6448d0539c510663aefd2e2\n",
            "  Building wheel for dash-colorscales (setup.py) ... \u001b[?25l\u001b[?25hdone\n",
            "  Created wheel for dash-colorscales: filename=dash_colorscales-0.0.4-py3-none-any.whl size=62589 sha256=a3a945c2637de708514f98787b986557836aee67856ef80032147163207eebad\n",
            "  Stored in directory: /root/.cache/pip/wheels/2f/22/7e/183ba2af565e3eb955021fbb4fe8fe4a6b1ed8ae3e5c03236a\n",
            "  Building wheel for dash-daq (setup.py) ... \u001b[?25l\u001b[?25hdone\n",
            "  Created wheel for dash-daq: filename=dash_daq-0.5.0-py3-none-any.whl size=669716 sha256=6b894958a0cf5dd1ae1b537dcb78cc2207b0c634f528a770cc34c64dfc8d2aab\n",
            "  Stored in directory: /root/.cache/pip/wheels/fe/54/53/a8d448db5592874db4313240571ca2c069e55f6a6b29bf5847\n",
            "  Building wheel for ppscore (setup.py) ... \u001b[?25l\u001b[?25hdone\n",
            "  Created wheel for ppscore: filename=ppscore-1.2.0-py2.py3-none-any.whl size=13068 sha256=1e9c26341772d2fc8f6d5b1e3bd32180bc95289a9822ccaa8e0e0437ea820f3c\n",
            "  Stored in directory: /root/.cache/pip/wheels/d2/3c/58/2ff786414b21713edc6f4fdb54fdee89ac37bca5edd1f60634\n",
            "Successfully built dash-core-components dash-html-components dash-table dash-colorscales dash-daq ppscore\n",
            "Installing collected packages: tenacity, brotli, plotly, Flask-Compress, dash-table, dash-html-components, dash-core-components, dash, strsimpy, squarify, ppscore, missingno, lz4, kaleido, flask-ngrok, dash-daq, dash-colorscales, dash-bootstrap-components, dtale\n",
            "  Attempting uninstall: plotly\n",
            "    Found existing installation: plotly 4.4.1\n",
            "    Uninstalling plotly-4.4.1:\n",
            "      Successfully uninstalled plotly-4.4.1\n",
            "  Attempting uninstall: missingno\n",
            "    Found existing installation: missingno 0.5.0\n",
            "    Uninstalling missingno-0.5.0:\n",
            "      Successfully uninstalled missingno-0.5.0\n",
            "Successfully installed Flask-Compress-1.10.1 brotli-1.0.9 dash-2.0.0 dash-bootstrap-components-0.13.0 dash-colorscales-0.0.4 dash-core-components-2.0.0 dash-daq-0.5.0 dash-html-components-2.0.0 dash-table-5.0.0 dtale-1.56.0 flask-ngrok-0.0.25 kaleido-0.2.1 lz4-3.1.3 missingno-0.4.2 plotly-5.3.1 ppscore-1.2.0 squarify-0.4.3 strsimpy-0.2.1 tenacity-8.0.1\n"
          ]
        }
      ]
    },
    {
      "cell_type": "code",
      "metadata": {
        "colab": {
          "base_uri": "https://localhost:8080/"
        },
        "id": "i6tDq46B53yj",
        "outputId": "4baf66d2-3b7a-4d64-a6d7-e3be8e29f513"
      },
      "source": [
        "import dtale\n",
        "import dtale.app as dtale_app\n",
        "dtale_app.USE_COLAB = True"
      ],
      "execution_count": 11,
      "outputs": [
        {
          "output_type": "stream",
          "name": "stderr",
          "text": [
            "/usr/local/lib/python3.7/dist-packages/dtale/dash_application/charts.py:13: UserWarning: \n",
            "The dash_core_components package is deprecated. Please replace\n",
            "`import dash_core_components as dcc` with `from dash import dcc`\n",
            "  import dash_core_components as dcc\n",
            "/usr/local/lib/python3.7/dist-packages/dtale/dash_application/charts.py:14: UserWarning: \n",
            "The dash_html_components package is deprecated. Please replace\n",
            "`import dash_html_components as html` with `from dash import html`\n",
            "  import dash_html_components as html\n"
          ]
        }
      ]
    },
    {
      "cell_type": "code",
      "metadata": {
        "colab": {
          "base_uri": "https://localhost:8080/",
          "height": 51
        },
        "id": "q-REPUHC59DF",
        "outputId": "ff4f8ad8-f7bc-45c7-fb32-e2cbaa5e2210"
      },
      "source": [
        "dtale.show(df)"
      ],
      "execution_count": 12,
      "outputs": [
        {
          "output_type": "stream",
          "name": "stderr",
          "text": [
            "2021-09-21 05:51:48,408 - INFO     - NumExpr defaulting to 2 threads.\n"
          ]
        },
        {
          "output_type": "execute_result",
          "data": {
            "text/plain": [
              "https://fey01bjoi0g-496ff2e9c6d22116-40000-colab.googleusercontent.com/dtale/main/1"
            ]
          },
          "metadata": {},
          "execution_count": 12
        }
      ]
    },
    {
      "cell_type": "code",
      "metadata": {
        "colab": {
          "base_uri": "https://localhost:8080/",
          "height": 204
        },
        "id": "_N8eCiNG6pQk",
        "outputId": "bd9ddd2e-3946-4758-f4ef-26663cf3785b"
      },
      "source": [
        "new_df = df[df.columns.difference(['Area'])]\n",
        "new_df.head()"
      ],
      "execution_count": 13,
      "outputs": [
        {
          "output_type": "execute_result",
          "data": {
            "text/html": [
              "<div>\n",
              "<style scoped>\n",
              "    .dataframe tbody tr th:only-of-type {\n",
              "        vertical-align: middle;\n",
              "    }\n",
              "\n",
              "    .dataframe tbody tr th {\n",
              "        vertical-align: top;\n",
              "    }\n",
              "\n",
              "    .dataframe thead th {\n",
              "        text-align: right;\n",
              "    }\n",
              "</style>\n",
              "<table border=\"1\" class=\"dataframe\">\n",
              "  <thead>\n",
              "    <tr style=\"text-align: right;\">\n",
              "      <th></th>\n",
              "      <th>Fire Occurrence</th>\n",
              "      <th>Humidity</th>\n",
              "      <th>Oxygen</th>\n",
              "      <th>Temperature</th>\n",
              "    </tr>\n",
              "  </thead>\n",
              "  <tbody>\n",
              "    <tr>\n",
              "      <th>0</th>\n",
              "      <td>1</td>\n",
              "      <td>20</td>\n",
              "      <td>40</td>\n",
              "      <td>45</td>\n",
              "    </tr>\n",
              "    <tr>\n",
              "      <th>1</th>\n",
              "      <td>1</td>\n",
              "      <td>10</td>\n",
              "      <td>50</td>\n",
              "      <td>30</td>\n",
              "    </tr>\n",
              "    <tr>\n",
              "      <th>2</th>\n",
              "      <td>0</td>\n",
              "      <td>70</td>\n",
              "      <td>10</td>\n",
              "      <td>20</td>\n",
              "    </tr>\n",
              "    <tr>\n",
              "      <th>3</th>\n",
              "      <td>1</td>\n",
              "      <td>70</td>\n",
              "      <td>60</td>\n",
              "      <td>45</td>\n",
              "    </tr>\n",
              "    <tr>\n",
              "      <th>4</th>\n",
              "      <td>1</td>\n",
              "      <td>10</td>\n",
              "      <td>30</td>\n",
              "      <td>48</td>\n",
              "    </tr>\n",
              "  </tbody>\n",
              "</table>\n",
              "</div>"
            ],
            "text/plain": [
              "   Fire Occurrence  Humidity  Oxygen  Temperature\n",
              "0                1        20      40           45\n",
              "1                1        10      50           30\n",
              "2                0        70      10           20\n",
              "3                1        70      60           45\n",
              "4                1        10      30           48"
            ]
          },
          "metadata": {},
          "execution_count": 13
        }
      ]
    },
    {
      "cell_type": "code",
      "metadata": {
        "id": "brmhP_Kl7nU2"
      },
      "source": [
        "x=new_df.drop('Fire Occurrence',axis=1)\n",
        "y=new_df['Fire Occurrence']"
      ],
      "execution_count": 15,
      "outputs": []
    },
    {
      "cell_type": "code",
      "metadata": {
        "colab": {
          "base_uri": "https://localhost:8080/",
          "height": 204
        },
        "id": "3rYQpjZP8Vth",
        "outputId": "f294aec1-1b14-4801-d9b3-4e99e039760b"
      },
      "source": [
        "x.head()"
      ],
      "execution_count": 17,
      "outputs": [
        {
          "output_type": "execute_result",
          "data": {
            "text/html": [
              "<div>\n",
              "<style scoped>\n",
              "    .dataframe tbody tr th:only-of-type {\n",
              "        vertical-align: middle;\n",
              "    }\n",
              "\n",
              "    .dataframe tbody tr th {\n",
              "        vertical-align: top;\n",
              "    }\n",
              "\n",
              "    .dataframe thead th {\n",
              "        text-align: right;\n",
              "    }\n",
              "</style>\n",
              "<table border=\"1\" class=\"dataframe\">\n",
              "  <thead>\n",
              "    <tr style=\"text-align: right;\">\n",
              "      <th></th>\n",
              "      <th>Humidity</th>\n",
              "      <th>Oxygen</th>\n",
              "      <th>Temperature</th>\n",
              "    </tr>\n",
              "  </thead>\n",
              "  <tbody>\n",
              "    <tr>\n",
              "      <th>0</th>\n",
              "      <td>20</td>\n",
              "      <td>40</td>\n",
              "      <td>45</td>\n",
              "    </tr>\n",
              "    <tr>\n",
              "      <th>1</th>\n",
              "      <td>10</td>\n",
              "      <td>50</td>\n",
              "      <td>30</td>\n",
              "    </tr>\n",
              "    <tr>\n",
              "      <th>2</th>\n",
              "      <td>70</td>\n",
              "      <td>10</td>\n",
              "      <td>20</td>\n",
              "    </tr>\n",
              "    <tr>\n",
              "      <th>3</th>\n",
              "      <td>70</td>\n",
              "      <td>60</td>\n",
              "      <td>45</td>\n",
              "    </tr>\n",
              "    <tr>\n",
              "      <th>4</th>\n",
              "      <td>10</td>\n",
              "      <td>30</td>\n",
              "      <td>48</td>\n",
              "    </tr>\n",
              "  </tbody>\n",
              "</table>\n",
              "</div>"
            ],
            "text/plain": [
              "   Humidity  Oxygen  Temperature\n",
              "0        20      40           45\n",
              "1        10      50           30\n",
              "2        70      10           20\n",
              "3        70      60           45\n",
              "4        10      30           48"
            ]
          },
          "metadata": {},
          "execution_count": 17
        }
      ]
    },
    {
      "cell_type": "code",
      "metadata": {
        "colab": {
          "base_uri": "https://localhost:8080/"
        },
        "id": "pP6KP3js8c7n",
        "outputId": "4f3af775-457e-45fb-ca64-413ce4928c5c"
      },
      "source": [
        "y.head()"
      ],
      "execution_count": 18,
      "outputs": [
        {
          "output_type": "execute_result",
          "data": {
            "text/plain": [
              "0    1\n",
              "1    1\n",
              "2    0\n",
              "3    1\n",
              "4    1\n",
              "Name: Fire Occurrence, dtype: int64"
            ]
          },
          "metadata": {},
          "execution_count": 18
        }
      ]
    },
    {
      "cell_type": "code",
      "metadata": {
        "id": "4XWbFLV98gTY"
      },
      "source": [
        "from sklearn.model_selection import train_test_split\n",
        "x_train, x_test, y_train, y_test = train_test_split(x, y, test_size=0.3, random_state=100)"
      ],
      "execution_count": 19,
      "outputs": []
    },
    {
      "cell_type": "code",
      "metadata": {
        "id": "JC7OBAeL9Ekc"
      },
      "source": [
        "from sklearn.linear_model import LogisticRegression"
      ],
      "execution_count": 20,
      "outputs": []
    },
    {
      "cell_type": "code",
      "metadata": {
        "id": "iKfOdkqS9R0x"
      },
      "source": [
        "log_reg = LogisticRegression(max_iter= 10, penalty= 'l2', solver= 'newton-cg')"
      ],
      "execution_count": 32,
      "outputs": []
    },
    {
      "cell_type": "code",
      "metadata": {
        "colab": {
          "base_uri": "https://localhost:8080/"
        },
        "id": "F_cO2Teq9ruo",
        "outputId": "038adf35-da40-41e8-cd82-7eee3d10c019"
      },
      "source": [
        "log_reg.fit(x_train, y_train)"
      ],
      "execution_count": 33,
      "outputs": [
        {
          "output_type": "stream",
          "name": "stderr",
          "text": [
            "/usr/local/lib/python3.7/dist-packages/sklearn/utils/optimize.py:212: ConvergenceWarning:\n",
            "\n",
            "newton-cg failed to converge. Increase the number of iterations.\n",
            "\n"
          ]
        },
        {
          "output_type": "execute_result",
          "data": {
            "text/plain": [
              "LogisticRegression(C=1.0, class_weight=None, dual=False, fit_intercept=True,\n",
              "                   intercept_scaling=1, l1_ratio=None, max_iter=10,\n",
              "                   multi_class='auto', n_jobs=None, penalty='l2',\n",
              "                   random_state=None, solver='newton-cg', tol=0.0001, verbose=0,\n",
              "                   warm_start=False)"
            ]
          },
          "metadata": {},
          "execution_count": 33
        }
      ]
    },
    {
      "cell_type": "code",
      "metadata": {
        "id": "j_QnYkmO95Ms"
      },
      "source": [
        "from sklearn.model_selection import GridSearchCV"
      ],
      "execution_count": 25,
      "outputs": []
    },
    {
      "cell_type": "code",
      "metadata": {
        "id": "Evm9m1DQ9_m-"
      },
      "source": [
        "max_iter = [10, 100, 200, 300, 400]\n",
        "solver = [\"newton-cg\", \"lbfgs\", \"liblinear\"]\n",
        "penalty = [\"l1\", \"l2\", \"elasticnet\"]"
      ],
      "execution_count": 26,
      "outputs": []
    },
    {
      "cell_type": "code",
      "metadata": {
        "id": "RSGS3x7V-EmH"
      },
      "source": [
        "random_grid = {'penalty': penalty,\n",
        "               'max_iter': max_iter,\n",
        "               'solver': solver,\n",
        "               }"
      ],
      "execution_count": 27,
      "outputs": []
    },
    {
      "cell_type": "code",
      "metadata": {
        "id": "-dVb4DOZ-O_g"
      },
      "source": [
        "log = LogisticRegression()\n",
        "log_search = GridSearchCV(estimator = log, param_grid = random_grid,scoring='accuracy', cv = 5, verbose=2, n_jobs = 1)"
      ],
      "execution_count": 28,
      "outputs": []
    },
    {
      "cell_type": "code",
      "metadata": {
        "colab": {
          "base_uri": "https://localhost:8080/"
        },
        "id": "yrGPqDyd-X1E",
        "outputId": "67ed870a-81e7-4508-f712-7c7b2df76dec"
      },
      "source": [
        "log_search.fit(x_train, y_train)"
      ],
      "execution_count": 29,
      "outputs": [
        {
          "output_type": "stream",
          "name": "stdout",
          "text": [
            "Fitting 5 folds for each of 45 candidates, totalling 225 fits\n",
            "[CV] max_iter=10, penalty=l1, solver=newton-cg .......................\n",
            "[CV] ........ max_iter=10, penalty=l1, solver=newton-cg, total=   0.0s\n",
            "[CV] max_iter=10, penalty=l1, solver=newton-cg .......................\n",
            "[CV] ........ max_iter=10, penalty=l1, solver=newton-cg, total=   0.0s\n",
            "[CV] max_iter=10, penalty=l1, solver=newton-cg .......................\n",
            "[CV] ........ max_iter=10, penalty=l1, solver=newton-cg, total=   0.0s\n",
            "[CV] max_iter=10, penalty=l1, solver=newton-cg .......................\n",
            "[CV] ........ max_iter=10, penalty=l1, solver=newton-cg, total=   0.0s\n",
            "[CV] max_iter=10, penalty=l1, solver=newton-cg .......................\n",
            "[CV] ........ max_iter=10, penalty=l1, solver=newton-cg, total=   0.0s\n",
            "[CV] max_iter=10, penalty=l1, solver=lbfgs ...........................\n",
            "[CV] ............ max_iter=10, penalty=l1, solver=lbfgs, total=   0.0s\n",
            "[CV] max_iter=10, penalty=l1, solver=lbfgs ...........................\n",
            "[CV] ............ max_iter=10, penalty=l1, solver=lbfgs, total=   0.0s\n",
            "[CV] max_iter=10, penalty=l1, solver=lbfgs ...........................\n",
            "[CV] ............ max_iter=10, penalty=l1, solver=lbfgs, total=   0.0s\n",
            "[CV] max_iter=10, penalty=l1, solver=lbfgs ...........................\n",
            "[CV] ............ max_iter=10, penalty=l1, solver=lbfgs, total=   0.0s\n",
            "[CV] max_iter=10, penalty=l1, solver=lbfgs ...........................\n",
            "[CV] ............ max_iter=10, penalty=l1, solver=lbfgs, total=   0.0s\n",
            "[CV] max_iter=10, penalty=l1, solver=liblinear .......................\n",
            "[CV] ........ max_iter=10, penalty=l1, solver=liblinear, total=   0.0s\n",
            "[CV] max_iter=10, penalty=l1, solver=liblinear .......................\n",
            "[CV] ........ max_iter=10, penalty=l1, solver=liblinear, total=   0.0s\n",
            "[CV] max_iter=10, penalty=l1, solver=liblinear .......................\n",
            "[CV] ........ max_iter=10, penalty=l1, solver=liblinear, total=   0.0s\n",
            "[CV] max_iter=10, penalty=l1, solver=liblinear .......................\n",
            "[CV] ........ max_iter=10, penalty=l1, solver=liblinear, total=   0.0s\n",
            "[CV] max_iter=10, penalty=l1, solver=liblinear .......................\n",
            "[CV] ........ max_iter=10, penalty=l1, solver=liblinear, total=   0.0s\n",
            "[CV] max_iter=10, penalty=l2, solver=newton-cg .......................\n",
            "[CV] ........ max_iter=10, penalty=l2, solver=newton-cg, total=   0.0s\n",
            "[CV] max_iter=10, penalty=l2, solver=newton-cg .......................\n",
            "[CV] ........ max_iter=10, penalty=l2, solver=newton-cg, total=   0.0s\n",
            "[CV] max_iter=10, penalty=l2, solver=newton-cg .......................\n",
            "[CV] ........ max_iter=10, penalty=l2, solver=newton-cg, total=   0.0s\n",
            "[CV] max_iter=10, penalty=l2, solver=newton-cg .......................\n",
            "[CV] ........ max_iter=10, penalty=l2, solver=newton-cg, total=   0.0s\n",
            "[CV] max_iter=10, penalty=l2, solver=newton-cg .......................\n",
            "[CV] ........ max_iter=10, penalty=l2, solver=newton-cg, total=   0.0s\n",
            "[CV] max_iter=10, penalty=l2, solver=lbfgs ...........................\n",
            "[CV] ............ max_iter=10, penalty=l2, solver=lbfgs, total=   0.0s\n",
            "[CV] max_iter=10, penalty=l2, solver=lbfgs ...........................\n",
            "[CV] ............ max_iter=10, penalty=l2, solver=lbfgs, total=   0.0s\n",
            "[CV] max_iter=10, penalty=l2, solver=lbfgs ...........................\n",
            "[CV] ............ max_iter=10, penalty=l2, solver=lbfgs, total=   0.0s\n",
            "[CV] max_iter=10, penalty=l2, solver=lbfgs ...........................\n",
            "[CV] ............ max_iter=10, penalty=l2, solver=lbfgs, total=   0.0s\n",
            "[CV] max_iter=10, penalty=l2, solver=lbfgs ...........................\n",
            "[CV] ............ max_iter=10, penalty=l2, solver=lbfgs, total=   0.0s\n",
            "[CV] max_iter=10, penalty=l2, solver=liblinear .......................\n",
            "[CV] ........ max_iter=10, penalty=l2, solver=liblinear, total=   0.0s\n",
            "[CV] max_iter=10, penalty=l2, solver=liblinear .......................\n",
            "[CV] ........ max_iter=10, penalty=l2, solver=liblinear, total=   0.0s\n",
            "[CV] max_iter=10, penalty=l2, solver=liblinear .......................\n",
            "[CV] ........ max_iter=10, penalty=l2, solver=liblinear, total=   0.0s\n",
            "[CV] max_iter=10, penalty=l2, solver=liblinear .......................\n",
            "[CV] ........ max_iter=10, penalty=l2, solver=liblinear, total=   0.0s\n",
            "[CV] max_iter=10, penalty=l2, solver=liblinear .......................\n",
            "[CV] ........ max_iter=10, penalty=l2, solver=liblinear, total=   0.0s\n",
            "[CV] max_iter=10, penalty=elasticnet, solver=newton-cg ...............\n",
            "[CV]  max_iter=10, penalty=elasticnet, solver=newton-cg, total=   0.0s\n",
            "[CV] max_iter=10, penalty=elasticnet, solver=newton-cg ...............\n",
            "[CV]  max_iter=10, penalty=elasticnet, solver=newton-cg, total=   0.0s\n",
            "[CV] max_iter=10, penalty=elasticnet, solver=newton-cg ...............\n",
            "[CV]  max_iter=10, penalty=elasticnet, solver=newton-cg, total=   0.0s\n",
            "[CV] max_iter=10, penalty=elasticnet, solver=newton-cg ...............\n",
            "[CV]  max_iter=10, penalty=elasticnet, solver=newton-cg, total=   0.0s\n",
            "[CV] max_iter=10, penalty=elasticnet, solver=newton-cg ...............\n",
            "[CV]  max_iter=10, penalty=elasticnet, solver=newton-cg, total=   0.0s\n",
            "[CV] max_iter=10, penalty=elasticnet, solver=lbfgs ...................\n",
            "[CV] .... max_iter=10, penalty=elasticnet, solver=lbfgs, total=   0.0s\n",
            "[CV] max_iter=10, penalty=elasticnet, solver=lbfgs ...................\n",
            "[CV] .... max_iter=10, penalty=elasticnet, solver=lbfgs, total=   0.0s\n",
            "[CV] max_iter=10, penalty=elasticnet, solver=lbfgs ...................\n",
            "[CV] .... max_iter=10, penalty=elasticnet, solver=lbfgs, total=   0.0s\n",
            "[CV] max_iter=10, penalty=elasticnet, solver=lbfgs ...................\n",
            "[CV] .... max_iter=10, penalty=elasticnet, solver=lbfgs, total=   0.0s\n",
            "[CV] max_iter=10, penalty=elasticnet, solver=lbfgs ...................\n",
            "[CV] .... max_iter=10, penalty=elasticnet, solver=lbfgs, total=   0.0s\n",
            "[CV] max_iter=10, penalty=elasticnet, solver=liblinear ...............\n",
            "[CV]  max_iter=10, penalty=elasticnet, solver=liblinear, total=   0.0s\n",
            "[CV] max_iter=10, penalty=elasticnet, solver=liblinear ...............\n",
            "[CV]  max_iter=10, penalty=elasticnet, solver=liblinear, total=   0.0s\n",
            "[CV] max_iter=10, penalty=elasticnet, solver=liblinear ...............\n",
            "[CV]  max_iter=10, penalty=elasticnet, solver=liblinear, total=   0.0s\n",
            "[CV] max_iter=10, penalty=elasticnet, solver=liblinear ...............\n",
            "[CV]  max_iter=10, penalty=elasticnet, solver=liblinear, total=   0.0s\n",
            "[CV] max_iter=10, penalty=elasticnet, solver=liblinear ...............\n",
            "[CV]  max_iter=10, penalty=elasticnet, solver=liblinear, total=   0.0s\n",
            "[CV] max_iter=100, penalty=l1, solver=newton-cg ......................\n",
            "[CV] ....... max_iter=100, penalty=l1, solver=newton-cg, total=   0.0s\n",
            "[CV] max_iter=100, penalty=l1, solver=newton-cg ......................\n",
            "[CV] ....... max_iter=100, penalty=l1, solver=newton-cg, total=   0.0s\n",
            "[CV] max_iter=100, penalty=l1, solver=newton-cg ......................\n",
            "[CV] ....... max_iter=100, penalty=l1, solver=newton-cg, total=   0.0s\n",
            "[CV] max_iter=100, penalty=l1, solver=newton-cg ......................\n",
            "[CV] ....... max_iter=100, penalty=l1, solver=newton-cg, total=   0.0s\n",
            "[CV] max_iter=100, penalty=l1, solver=newton-cg ......................\n",
            "[CV] ....... max_iter=100, penalty=l1, solver=newton-cg, total=   0.0s\n",
            "[CV] max_iter=100, penalty=l1, solver=lbfgs ..........................\n",
            "[CV] ........... max_iter=100, penalty=l1, solver=lbfgs, total=   0.0s\n",
            "[CV] max_iter=100, penalty=l1, solver=lbfgs ..........................\n",
            "[CV] ........... max_iter=100, penalty=l1, solver=lbfgs, total=   0.0s\n",
            "[CV] max_iter=100, penalty=l1, solver=lbfgs ..........................\n",
            "[CV] ........... max_iter=100, penalty=l1, solver=lbfgs, total=   0.0s\n",
            "[CV] max_iter=100, penalty=l1, solver=lbfgs ..........................\n",
            "[CV] ........... max_iter=100, penalty=l1, solver=lbfgs, total=   0.0s\n",
            "[CV] max_iter=100, penalty=l1, solver=lbfgs ..........................\n",
            "[CV] ........... max_iter=100, penalty=l1, solver=lbfgs, total=   0.0s\n",
            "[CV] max_iter=100, penalty=l1, solver=liblinear ......................\n",
            "[CV] ....... max_iter=100, penalty=l1, solver=liblinear, total=   0.0s\n",
            "[CV] max_iter=100, penalty=l1, solver=liblinear ......................\n",
            "[CV] ....... max_iter=100, penalty=l1, solver=liblinear, total=   0.0s\n",
            "[CV] max_iter=100, penalty=l1, solver=liblinear ......................\n",
            "[CV] ....... max_iter=100, penalty=l1, solver=liblinear, total=   0.0s\n",
            "[CV] max_iter=100, penalty=l1, solver=liblinear ......................\n",
            "[CV] ....... max_iter=100, penalty=l1, solver=liblinear, total=   0.0s\n",
            "[CV] max_iter=100, penalty=l1, solver=liblinear ......................\n"
          ]
        },
        {
          "output_type": "stream",
          "name": "stderr",
          "text": [
            "[Parallel(n_jobs=1)]: Using backend SequentialBackend with 1 concurrent workers.\n",
            "/usr/local/lib/python3.7/dist-packages/sklearn/model_selection/_validation.py:536: FitFailedWarning:\n",
            "\n",
            "Estimator fit failed. The score on this train-test partition for these parameters will be set to nan. Details: \n",
            "ValueError: Solver newton-cg supports only 'l2' or 'none' penalties, got l1 penalty.\n",
            "\n",
            "\n",
            "[Parallel(n_jobs=1)]: Done   1 out of   1 | elapsed:    0.0s remaining:    0.0s\n",
            "/usr/local/lib/python3.7/dist-packages/sklearn/model_selection/_validation.py:536: FitFailedWarning:\n",
            "\n",
            "Estimator fit failed. The score on this train-test partition for these parameters will be set to nan. Details: \n",
            "ValueError: Solver lbfgs supports only 'l2' or 'none' penalties, got l1 penalty.\n",
            "\n",
            "\n",
            "/usr/local/lib/python3.7/dist-packages/sklearn/svm/_base.py:947: ConvergenceWarning:\n",
            "\n",
            "Liblinear failed to converge, increase the number of iterations.\n",
            "\n",
            "/usr/local/lib/python3.7/dist-packages/sklearn/svm/_base.py:947: ConvergenceWarning:\n",
            "\n",
            "Liblinear failed to converge, increase the number of iterations.\n",
            "\n",
            "/usr/local/lib/python3.7/dist-packages/sklearn/svm/_base.py:947: ConvergenceWarning:\n",
            "\n",
            "Liblinear failed to converge, increase the number of iterations.\n",
            "\n",
            "/usr/local/lib/python3.7/dist-packages/sklearn/svm/_base.py:947: ConvergenceWarning:\n",
            "\n",
            "Liblinear failed to converge, increase the number of iterations.\n",
            "\n",
            "/usr/local/lib/python3.7/dist-packages/sklearn/svm/_base.py:947: ConvergenceWarning:\n",
            "\n",
            "Liblinear failed to converge, increase the number of iterations.\n",
            "\n",
            "/usr/local/lib/python3.7/dist-packages/sklearn/utils/optimize.py:212: ConvergenceWarning:\n",
            "\n",
            "newton-cg failed to converge. Increase the number of iterations.\n",
            "\n",
            "/usr/local/lib/python3.7/dist-packages/sklearn/utils/optimize.py:212: ConvergenceWarning:\n",
            "\n",
            "newton-cg failed to converge. Increase the number of iterations.\n",
            "\n",
            "/usr/local/lib/python3.7/dist-packages/sklearn/utils/optimize.py:212: ConvergenceWarning:\n",
            "\n",
            "newton-cg failed to converge. Increase the number of iterations.\n",
            "\n",
            "/usr/local/lib/python3.7/dist-packages/sklearn/utils/optimize.py:212: ConvergenceWarning:\n",
            "\n",
            "newton-cg failed to converge. Increase the number of iterations.\n",
            "\n",
            "/usr/local/lib/python3.7/dist-packages/sklearn/utils/optimize.py:212: ConvergenceWarning:\n",
            "\n",
            "newton-cg failed to converge. Increase the number of iterations.\n",
            "\n",
            "/usr/local/lib/python3.7/dist-packages/sklearn/linear_model/_logistic.py:940: ConvergenceWarning:\n",
            "\n",
            "lbfgs failed to converge (status=1):\n",
            "STOP: TOTAL NO. of ITERATIONS REACHED LIMIT.\n",
            "\n",
            "Increase the number of iterations (max_iter) or scale the data as shown in:\n",
            "    https://scikit-learn.org/stable/modules/preprocessing.html\n",
            "Please also refer to the documentation for alternative solver options:\n",
            "    https://scikit-learn.org/stable/modules/linear_model.html#logistic-regression\n",
            "\n",
            "/usr/local/lib/python3.7/dist-packages/sklearn/linear_model/_logistic.py:940: ConvergenceWarning:\n",
            "\n",
            "lbfgs failed to converge (status=1):\n",
            "STOP: TOTAL NO. of ITERATIONS REACHED LIMIT.\n",
            "\n",
            "Increase the number of iterations (max_iter) or scale the data as shown in:\n",
            "    https://scikit-learn.org/stable/modules/preprocessing.html\n",
            "Please also refer to the documentation for alternative solver options:\n",
            "    https://scikit-learn.org/stable/modules/linear_model.html#logistic-regression\n",
            "\n",
            "/usr/local/lib/python3.7/dist-packages/sklearn/linear_model/_logistic.py:940: ConvergenceWarning:\n",
            "\n",
            "lbfgs failed to converge (status=1):\n",
            "STOP: TOTAL NO. of ITERATIONS REACHED LIMIT.\n",
            "\n",
            "Increase the number of iterations (max_iter) or scale the data as shown in:\n",
            "    https://scikit-learn.org/stable/modules/preprocessing.html\n",
            "Please also refer to the documentation for alternative solver options:\n",
            "    https://scikit-learn.org/stable/modules/linear_model.html#logistic-regression\n",
            "\n",
            "/usr/local/lib/python3.7/dist-packages/sklearn/linear_model/_logistic.py:940: ConvergenceWarning:\n",
            "\n",
            "lbfgs failed to converge (status=1):\n",
            "STOP: TOTAL NO. of ITERATIONS REACHED LIMIT.\n",
            "\n",
            "Increase the number of iterations (max_iter) or scale the data as shown in:\n",
            "    https://scikit-learn.org/stable/modules/preprocessing.html\n",
            "Please also refer to the documentation for alternative solver options:\n",
            "    https://scikit-learn.org/stable/modules/linear_model.html#logistic-regression\n",
            "\n",
            "/usr/local/lib/python3.7/dist-packages/sklearn/linear_model/_logistic.py:940: ConvergenceWarning:\n",
            "\n",
            "lbfgs failed to converge (status=1):\n",
            "STOP: TOTAL NO. of ITERATIONS REACHED LIMIT.\n",
            "\n",
            "Increase the number of iterations (max_iter) or scale the data as shown in:\n",
            "    https://scikit-learn.org/stable/modules/preprocessing.html\n",
            "Please also refer to the documentation for alternative solver options:\n",
            "    https://scikit-learn.org/stable/modules/linear_model.html#logistic-regression\n",
            "\n",
            "/usr/local/lib/python3.7/dist-packages/sklearn/svm/_base.py:947: ConvergenceWarning:\n",
            "\n",
            "Liblinear failed to converge, increase the number of iterations.\n",
            "\n",
            "/usr/local/lib/python3.7/dist-packages/sklearn/model_selection/_validation.py:536: FitFailedWarning:\n",
            "\n",
            "Estimator fit failed. The score on this train-test partition for these parameters will be set to nan. Details: \n",
            "ValueError: Solver newton-cg supports only 'l2' or 'none' penalties, got elasticnet penalty.\n",
            "\n",
            "\n",
            "/usr/local/lib/python3.7/dist-packages/sklearn/model_selection/_validation.py:536: FitFailedWarning:\n",
            "\n",
            "Estimator fit failed. The score on this train-test partition for these parameters will be set to nan. Details: \n",
            "ValueError: Solver lbfgs supports only 'l2' or 'none' penalties, got elasticnet penalty.\n",
            "\n",
            "\n",
            "/usr/local/lib/python3.7/dist-packages/sklearn/model_selection/_validation.py:536: FitFailedWarning:\n",
            "\n",
            "Estimator fit failed. The score on this train-test partition for these parameters will be set to nan. Details: \n",
            "ValueError: Only 'saga' solver supports elasticnet penalty, got solver=liblinear.\n",
            "\n",
            "\n",
            "/usr/local/lib/python3.7/dist-packages/sklearn/model_selection/_validation.py:536: FitFailedWarning:\n",
            "\n",
            "Estimator fit failed. The score on this train-test partition for these parameters will be set to nan. Details: \n",
            "ValueError: Solver newton-cg supports only 'l2' or 'none' penalties, got l1 penalty.\n",
            "\n",
            "\n",
            "/usr/local/lib/python3.7/dist-packages/sklearn/model_selection/_validation.py:536: FitFailedWarning:\n",
            "\n",
            "Estimator fit failed. The score on this train-test partition for these parameters will be set to nan. Details: \n",
            "ValueError: Solver lbfgs supports only 'l2' or 'none' penalties, got l1 penalty.\n",
            "\n",
            "\n"
          ]
        },
        {
          "output_type": "stream",
          "name": "stdout",
          "text": [
            "[CV] ....... max_iter=100, penalty=l1, solver=liblinear, total=   0.0s\n",
            "[CV] max_iter=100, penalty=l2, solver=newton-cg ......................\n",
            "[CV] ....... max_iter=100, penalty=l2, solver=newton-cg, total=   0.0s\n",
            "[CV] max_iter=100, penalty=l2, solver=newton-cg ......................\n",
            "[CV] ....... max_iter=100, penalty=l2, solver=newton-cg, total=   0.0s\n",
            "[CV] max_iter=100, penalty=l2, solver=newton-cg ......................\n",
            "[CV] ....... max_iter=100, penalty=l2, solver=newton-cg, total=   0.0s\n",
            "[CV] max_iter=100, penalty=l2, solver=newton-cg ......................\n",
            "[CV] ....... max_iter=100, penalty=l2, solver=newton-cg, total=   0.0s\n",
            "[CV] max_iter=100, penalty=l2, solver=newton-cg ......................\n",
            "[CV] ....... max_iter=100, penalty=l2, solver=newton-cg, total=   0.0s\n",
            "[CV] max_iter=100, penalty=l2, solver=lbfgs ..........................\n",
            "[CV] ........... max_iter=100, penalty=l2, solver=lbfgs, total=   0.0s\n",
            "[CV] max_iter=100, penalty=l2, solver=lbfgs ..........................\n",
            "[CV] ........... max_iter=100, penalty=l2, solver=lbfgs, total=   0.0s\n",
            "[CV] max_iter=100, penalty=l2, solver=lbfgs ..........................\n",
            "[CV] ........... max_iter=100, penalty=l2, solver=lbfgs, total=   0.0s\n",
            "[CV] max_iter=100, penalty=l2, solver=lbfgs ..........................\n",
            "[CV] ........... max_iter=100, penalty=l2, solver=lbfgs, total=   0.0s\n",
            "[CV] max_iter=100, penalty=l2, solver=lbfgs ..........................\n",
            "[CV] ........... max_iter=100, penalty=l2, solver=lbfgs, total=   0.0s\n",
            "[CV] max_iter=100, penalty=l2, solver=liblinear ......................\n",
            "[CV] ....... max_iter=100, penalty=l2, solver=liblinear, total=   0.0s\n",
            "[CV] max_iter=100, penalty=l2, solver=liblinear ......................\n",
            "[CV] ....... max_iter=100, penalty=l2, solver=liblinear, total=   0.0s\n",
            "[CV] max_iter=100, penalty=l2, solver=liblinear ......................\n",
            "[CV] ....... max_iter=100, penalty=l2, solver=liblinear, total=   0.0s\n",
            "[CV] max_iter=100, penalty=l2, solver=liblinear ......................\n",
            "[CV] ....... max_iter=100, penalty=l2, solver=liblinear, total=   0.0s\n",
            "[CV] max_iter=100, penalty=l2, solver=liblinear ......................\n",
            "[CV] ....... max_iter=100, penalty=l2, solver=liblinear, total=   0.0s\n",
            "[CV] max_iter=100, penalty=elasticnet, solver=newton-cg ..............\n",
            "[CV]  max_iter=100, penalty=elasticnet, solver=newton-cg, total=   0.0s\n",
            "[CV] max_iter=100, penalty=elasticnet, solver=newton-cg ..............\n",
            "[CV]  max_iter=100, penalty=elasticnet, solver=newton-cg, total=   0.0s\n",
            "[CV] max_iter=100, penalty=elasticnet, solver=newton-cg ..............\n",
            "[CV]  max_iter=100, penalty=elasticnet, solver=newton-cg, total=   0.0s\n",
            "[CV] max_iter=100, penalty=elasticnet, solver=newton-cg ..............\n",
            "[CV]  max_iter=100, penalty=elasticnet, solver=newton-cg, total=   0.0s\n",
            "[CV] max_iter=100, penalty=elasticnet, solver=newton-cg ..............\n",
            "[CV]  max_iter=100, penalty=elasticnet, solver=newton-cg, total=   0.0s\n",
            "[CV] max_iter=100, penalty=elasticnet, solver=lbfgs ..................\n",
            "[CV] ... max_iter=100, penalty=elasticnet, solver=lbfgs, total=   0.0s\n",
            "[CV] max_iter=100, penalty=elasticnet, solver=lbfgs ..................\n",
            "[CV] ... max_iter=100, penalty=elasticnet, solver=lbfgs, total=   0.0s\n",
            "[CV] max_iter=100, penalty=elasticnet, solver=lbfgs ..................\n",
            "[CV] ... max_iter=100, penalty=elasticnet, solver=lbfgs, total=   0.0s\n",
            "[CV] max_iter=100, penalty=elasticnet, solver=lbfgs ..................\n",
            "[CV] ... max_iter=100, penalty=elasticnet, solver=lbfgs, total=   0.0s\n",
            "[CV] max_iter=100, penalty=elasticnet, solver=lbfgs ..................\n",
            "[CV] ... max_iter=100, penalty=elasticnet, solver=lbfgs, total=   0.0s\n",
            "[CV] max_iter=100, penalty=elasticnet, solver=liblinear ..............\n",
            "[CV]  max_iter=100, penalty=elasticnet, solver=liblinear, total=   0.0s\n",
            "[CV] max_iter=100, penalty=elasticnet, solver=liblinear ..............\n",
            "[CV]  max_iter=100, penalty=elasticnet, solver=liblinear, total=   0.0s\n",
            "[CV] max_iter=100, penalty=elasticnet, solver=liblinear ..............\n",
            "[CV]  max_iter=100, penalty=elasticnet, solver=liblinear, total=   0.0s\n",
            "[CV] max_iter=100, penalty=elasticnet, solver=liblinear ..............\n",
            "[CV]  max_iter=100, penalty=elasticnet, solver=liblinear, total=   0.0s\n",
            "[CV] max_iter=100, penalty=elasticnet, solver=liblinear ..............\n",
            "[CV]  max_iter=100, penalty=elasticnet, solver=liblinear, total=   0.0s\n",
            "[CV] max_iter=200, penalty=l1, solver=newton-cg ......................\n",
            "[CV] ....... max_iter=200, penalty=l1, solver=newton-cg, total=   0.0s\n",
            "[CV] max_iter=200, penalty=l1, solver=newton-cg ......................\n",
            "[CV] ....... max_iter=200, penalty=l1, solver=newton-cg, total=   0.0s\n",
            "[CV] max_iter=200, penalty=l1, solver=newton-cg ......................\n",
            "[CV] ....... max_iter=200, penalty=l1, solver=newton-cg, total=   0.0s\n",
            "[CV] max_iter=200, penalty=l1, solver=newton-cg ......................\n",
            "[CV] ....... max_iter=200, penalty=l1, solver=newton-cg, total=   0.0s\n",
            "[CV] max_iter=200, penalty=l1, solver=newton-cg ......................\n",
            "[CV] ....... max_iter=200, penalty=l1, solver=newton-cg, total=   0.0s\n"
          ]
        },
        {
          "output_type": "stream",
          "name": "stderr",
          "text": [
            "/usr/local/lib/python3.7/dist-packages/sklearn/model_selection/_validation.py:536: FitFailedWarning:\n",
            "\n",
            "Estimator fit failed. The score on this train-test partition for these parameters will be set to nan. Details: \n",
            "ValueError: Solver newton-cg supports only 'l2' or 'none' penalties, got elasticnet penalty.\n",
            "\n",
            "\n",
            "/usr/local/lib/python3.7/dist-packages/sklearn/model_selection/_validation.py:536: FitFailedWarning:\n",
            "\n",
            "Estimator fit failed. The score on this train-test partition for these parameters will be set to nan. Details: \n",
            "ValueError: Solver lbfgs supports only 'l2' or 'none' penalties, got elasticnet penalty.\n",
            "\n",
            "\n",
            "/usr/local/lib/python3.7/dist-packages/sklearn/model_selection/_validation.py:536: FitFailedWarning:\n",
            "\n",
            "Estimator fit failed. The score on this train-test partition for these parameters will be set to nan. Details: \n",
            "ValueError: Only 'saga' solver supports elasticnet penalty, got solver=liblinear.\n",
            "\n",
            "\n",
            "/usr/local/lib/python3.7/dist-packages/sklearn/model_selection/_validation.py:536: FitFailedWarning:\n",
            "\n",
            "Estimator fit failed. The score on this train-test partition for these parameters will be set to nan. Details: \n",
            "ValueError: Solver newton-cg supports only 'l2' or 'none' penalties, got l1 penalty.\n",
            "\n",
            "\n",
            "/usr/local/lib/python3.7/dist-packages/sklearn/model_selection/_validation.py:536: FitFailedWarning:\n",
            "\n",
            "Estimator fit failed. The score on this train-test partition for these parameters will be set to nan. Details: \n",
            "ValueError: Solver lbfgs supports only 'l2' or 'none' penalties, got l1 penalty.\n",
            "\n",
            "\n"
          ]
        },
        {
          "output_type": "stream",
          "name": "stdout",
          "text": [
            "[CV] max_iter=200, penalty=l1, solver=lbfgs ..........................\n",
            "[CV] ........... max_iter=200, penalty=l1, solver=lbfgs, total=   0.0s\n",
            "[CV] max_iter=200, penalty=l1, solver=lbfgs ..........................\n",
            "[CV] ........... max_iter=200, penalty=l1, solver=lbfgs, total=   0.0s\n",
            "[CV] max_iter=200, penalty=l1, solver=lbfgs ..........................\n",
            "[CV] ........... max_iter=200, penalty=l1, solver=lbfgs, total=   0.0s\n",
            "[CV] max_iter=200, penalty=l1, solver=lbfgs ..........................\n",
            "[CV] ........... max_iter=200, penalty=l1, solver=lbfgs, total=   0.0s\n",
            "[CV] max_iter=200, penalty=l1, solver=lbfgs ..........................\n",
            "[CV] ........... max_iter=200, penalty=l1, solver=lbfgs, total=   0.0s\n",
            "[CV] max_iter=200, penalty=l1, solver=liblinear ......................\n",
            "[CV] ....... max_iter=200, penalty=l1, solver=liblinear, total=   0.0s\n",
            "[CV] max_iter=200, penalty=l1, solver=liblinear ......................\n",
            "[CV] ....... max_iter=200, penalty=l1, solver=liblinear, total=   0.0s\n",
            "[CV] max_iter=200, penalty=l1, solver=liblinear ......................\n",
            "[CV] ....... max_iter=200, penalty=l1, solver=liblinear, total=   0.0s\n",
            "[CV] max_iter=200, penalty=l1, solver=liblinear ......................\n",
            "[CV] ....... max_iter=200, penalty=l1, solver=liblinear, total=   0.0s\n",
            "[CV] max_iter=200, penalty=l1, solver=liblinear ......................\n",
            "[CV] ....... max_iter=200, penalty=l1, solver=liblinear, total=   0.0s\n",
            "[CV] max_iter=200, penalty=l2, solver=newton-cg ......................\n",
            "[CV] ....... max_iter=200, penalty=l2, solver=newton-cg, total=   0.0s\n",
            "[CV] max_iter=200, penalty=l2, solver=newton-cg ......................\n",
            "[CV] ....... max_iter=200, penalty=l2, solver=newton-cg, total=   0.0s\n",
            "[CV] max_iter=200, penalty=l2, solver=newton-cg ......................\n",
            "[CV] ....... max_iter=200, penalty=l2, solver=newton-cg, total=   0.0s\n",
            "[CV] max_iter=200, penalty=l2, solver=newton-cg ......................\n",
            "[CV] ....... max_iter=200, penalty=l2, solver=newton-cg, total=   0.0s\n",
            "[CV] max_iter=200, penalty=l2, solver=newton-cg ......................\n",
            "[CV] ....... max_iter=200, penalty=l2, solver=newton-cg, total=   0.0s\n",
            "[CV] max_iter=200, penalty=l2, solver=lbfgs ..........................\n",
            "[CV] ........... max_iter=200, penalty=l2, solver=lbfgs, total=   0.0s\n",
            "[CV] max_iter=200, penalty=l2, solver=lbfgs ..........................\n",
            "[CV] ........... max_iter=200, penalty=l2, solver=lbfgs, total=   0.0s\n",
            "[CV] max_iter=200, penalty=l2, solver=lbfgs ..........................\n",
            "[CV] ........... max_iter=200, penalty=l2, solver=lbfgs, total=   0.0s\n",
            "[CV] max_iter=200, penalty=l2, solver=lbfgs ..........................\n",
            "[CV] ........... max_iter=200, penalty=l2, solver=lbfgs, total=   0.0s\n",
            "[CV] max_iter=200, penalty=l2, solver=lbfgs ..........................\n",
            "[CV] ........... max_iter=200, penalty=l2, solver=lbfgs, total=   0.0s\n",
            "[CV] max_iter=200, penalty=l2, solver=liblinear ......................\n",
            "[CV] ....... max_iter=200, penalty=l2, solver=liblinear, total=   0.0s\n",
            "[CV] max_iter=200, penalty=l2, solver=liblinear ......................\n",
            "[CV] ....... max_iter=200, penalty=l2, solver=liblinear, total=   0.0s\n",
            "[CV] max_iter=200, penalty=l2, solver=liblinear ......................\n",
            "[CV] ....... max_iter=200, penalty=l2, solver=liblinear, total=   0.0s\n",
            "[CV] max_iter=200, penalty=l2, solver=liblinear ......................\n",
            "[CV] ....... max_iter=200, penalty=l2, solver=liblinear, total=   0.0s\n",
            "[CV] max_iter=200, penalty=l2, solver=liblinear ......................\n",
            "[CV] ....... max_iter=200, penalty=l2, solver=liblinear, total=   0.0s\n",
            "[CV] max_iter=200, penalty=elasticnet, solver=newton-cg ..............\n",
            "[CV]  max_iter=200, penalty=elasticnet, solver=newton-cg, total=   0.0s\n",
            "[CV] max_iter=200, penalty=elasticnet, solver=newton-cg ..............\n",
            "[CV]  max_iter=200, penalty=elasticnet, solver=newton-cg, total=   0.0s\n",
            "[CV] max_iter=200, penalty=elasticnet, solver=newton-cg ..............\n",
            "[CV]  max_iter=200, penalty=elasticnet, solver=newton-cg, total=   0.0s\n",
            "[CV] max_iter=200, penalty=elasticnet, solver=newton-cg ..............\n",
            "[CV]  max_iter=200, penalty=elasticnet, solver=newton-cg, total=   0.0s\n",
            "[CV] max_iter=200, penalty=elasticnet, solver=newton-cg ..............\n",
            "[CV]  max_iter=200, penalty=elasticnet, solver=newton-cg, total=   0.0s\n",
            "[CV] max_iter=200, penalty=elasticnet, solver=lbfgs ..................\n",
            "[CV] ... max_iter=200, penalty=elasticnet, solver=lbfgs, total=   0.0s\n",
            "[CV] max_iter=200, penalty=elasticnet, solver=lbfgs ..................\n",
            "[CV] ... max_iter=200, penalty=elasticnet, solver=lbfgs, total=   0.0s\n",
            "[CV] max_iter=200, penalty=elasticnet, solver=lbfgs ..................\n",
            "[CV] ... max_iter=200, penalty=elasticnet, solver=lbfgs, total=   0.0s\n",
            "[CV] max_iter=200, penalty=elasticnet, solver=lbfgs ..................\n",
            "[CV] ... max_iter=200, penalty=elasticnet, solver=lbfgs, total=   0.0s\n",
            "[CV] max_iter=200, penalty=elasticnet, solver=lbfgs ..................\n",
            "[CV] ... max_iter=200, penalty=elasticnet, solver=lbfgs, total=   0.0s\n",
            "[CV] max_iter=200, penalty=elasticnet, solver=liblinear ..............\n",
            "[CV]  max_iter=200, penalty=elasticnet, solver=liblinear, total=   0.0s\n",
            "[CV] max_iter=200, penalty=elasticnet, solver=liblinear ..............\n",
            "[CV]  max_iter=200, penalty=elasticnet, solver=liblinear, total=   0.0s\n",
            "[CV] max_iter=200, penalty=elasticnet, solver=liblinear ..............\n",
            "[CV]  max_iter=200, penalty=elasticnet, solver=liblinear, total=   0.0s\n",
            "[CV] max_iter=200, penalty=elasticnet, solver=liblinear ..............\n",
            "[CV]  max_iter=200, penalty=elasticnet, solver=liblinear, total=   0.0s\n",
            "[CV] max_iter=200, penalty=elasticnet, solver=liblinear ..............\n",
            "[CV]  max_iter=200, penalty=elasticnet, solver=liblinear, total=   0.0s\n",
            "[CV] max_iter=300, penalty=l1, solver=newton-cg ......................\n",
            "[CV] ....... max_iter=300, penalty=l1, solver=newton-cg, total=   0.0s\n",
            "[CV] max_iter=300, penalty=l1, solver=newton-cg ......................\n",
            "[CV] ....... max_iter=300, penalty=l1, solver=newton-cg, total=   0.0s\n",
            "[CV] max_iter=300, penalty=l1, solver=newton-cg ......................\n",
            "[CV] ....... max_iter=300, penalty=l1, solver=newton-cg, total=   0.0s\n",
            "[CV] max_iter=300, penalty=l1, solver=newton-cg ......................\n",
            "[CV] ....... max_iter=300, penalty=l1, solver=newton-cg, total=   0.0s\n",
            "[CV] max_iter=300, penalty=l1, solver=newton-cg ......................\n",
            "[CV] ....... max_iter=300, penalty=l1, solver=newton-cg, total=   0.0s\n",
            "[CV] max_iter=300, penalty=l1, solver=lbfgs ..........................\n",
            "[CV] ........... max_iter=300, penalty=l1, solver=lbfgs, total=   0.0s\n",
            "[CV] max_iter=300, penalty=l1, solver=lbfgs ..........................\n",
            "[CV] ........... max_iter=300, penalty=l1, solver=lbfgs, total=   0.0s\n",
            "[CV] max_iter=300, penalty=l1, solver=lbfgs ..........................\n",
            "[CV] ........... max_iter=300, penalty=l1, solver=lbfgs, total=   0.0s\n",
            "[CV] max_iter=300, penalty=l1, solver=lbfgs ..........................\n",
            "[CV] ........... max_iter=300, penalty=l1, solver=lbfgs, total=   0.0s\n",
            "[CV] max_iter=300, penalty=l1, solver=lbfgs ..........................\n",
            "[CV] ........... max_iter=300, penalty=l1, solver=lbfgs, total=   0.0s\n",
            "[CV] max_iter=300, penalty=l1, solver=liblinear ......................\n",
            "[CV] ....... max_iter=300, penalty=l1, solver=liblinear, total=   0.0s\n",
            "[CV] max_iter=300, penalty=l1, solver=liblinear ......................\n",
            "[CV] ....... max_iter=300, penalty=l1, solver=liblinear, total=   0.0s\n",
            "[CV] max_iter=300, penalty=l1, solver=liblinear ......................\n",
            "[CV] ....... max_iter=300, penalty=l1, solver=liblinear, total=   0.0s\n",
            "[CV] max_iter=300, penalty=l1, solver=liblinear ......................\n",
            "[CV] ....... max_iter=300, penalty=l1, solver=liblinear, total=   0.0s\n",
            "[CV] max_iter=300, penalty=l1, solver=liblinear ......................\n",
            "[CV] ....... max_iter=300, penalty=l1, solver=liblinear, total=   0.0s\n",
            "[CV] max_iter=300, penalty=l2, solver=newton-cg ......................\n",
            "[CV] ....... max_iter=300, penalty=l2, solver=newton-cg, total=   0.0s\n",
            "[CV] max_iter=300, penalty=l2, solver=newton-cg ......................\n",
            "[CV] ....... max_iter=300, penalty=l2, solver=newton-cg, total=   0.0s\n",
            "[CV] max_iter=300, penalty=l2, solver=newton-cg ......................\n",
            "[CV] ....... max_iter=300, penalty=l2, solver=newton-cg, total=   0.0s\n",
            "[CV] max_iter=300, penalty=l2, solver=newton-cg ......................\n",
            "[CV] ....... max_iter=300, penalty=l2, solver=newton-cg, total=   0.0s\n",
            "[CV] max_iter=300, penalty=l2, solver=newton-cg ......................\n",
            "[CV] ....... max_iter=300, penalty=l2, solver=newton-cg, total=   0.0s\n",
            "[CV] max_iter=300, penalty=l2, solver=lbfgs ..........................\n",
            "[CV] ........... max_iter=300, penalty=l2, solver=lbfgs, total=   0.0s\n",
            "[CV] max_iter=300, penalty=l2, solver=lbfgs ..........................\n"
          ]
        },
        {
          "output_type": "stream",
          "name": "stderr",
          "text": [
            "/usr/local/lib/python3.7/dist-packages/sklearn/model_selection/_validation.py:536: FitFailedWarning:\n",
            "\n",
            "Estimator fit failed. The score on this train-test partition for these parameters will be set to nan. Details: \n",
            "ValueError: Solver newton-cg supports only 'l2' or 'none' penalties, got elasticnet penalty.\n",
            "\n",
            "\n",
            "/usr/local/lib/python3.7/dist-packages/sklearn/model_selection/_validation.py:536: FitFailedWarning:\n",
            "\n",
            "Estimator fit failed. The score on this train-test partition for these parameters will be set to nan. Details: \n",
            "ValueError: Solver lbfgs supports only 'l2' or 'none' penalties, got elasticnet penalty.\n",
            "\n",
            "\n",
            "/usr/local/lib/python3.7/dist-packages/sklearn/model_selection/_validation.py:536: FitFailedWarning:\n",
            "\n",
            "Estimator fit failed. The score on this train-test partition for these parameters will be set to nan. Details: \n",
            "ValueError: Only 'saga' solver supports elasticnet penalty, got solver=liblinear.\n",
            "\n",
            "\n",
            "/usr/local/lib/python3.7/dist-packages/sklearn/model_selection/_validation.py:536: FitFailedWarning:\n",
            "\n",
            "Estimator fit failed. The score on this train-test partition for these parameters will be set to nan. Details: \n",
            "ValueError: Solver newton-cg supports only 'l2' or 'none' penalties, got l1 penalty.\n",
            "\n",
            "\n",
            "/usr/local/lib/python3.7/dist-packages/sklearn/model_selection/_validation.py:536: FitFailedWarning:\n",
            "\n",
            "Estimator fit failed. The score on this train-test partition for these parameters will be set to nan. Details: \n",
            "ValueError: Solver lbfgs supports only 'l2' or 'none' penalties, got l1 penalty.\n",
            "\n",
            "\n"
          ]
        },
        {
          "output_type": "stream",
          "name": "stdout",
          "text": [
            "[CV] ........... max_iter=300, penalty=l2, solver=lbfgs, total=   0.0s\n",
            "[CV] max_iter=300, penalty=l2, solver=lbfgs ..........................\n",
            "[CV] ........... max_iter=300, penalty=l2, solver=lbfgs, total=   0.0s\n",
            "[CV] max_iter=300, penalty=l2, solver=lbfgs ..........................\n",
            "[CV] ........... max_iter=300, penalty=l2, solver=lbfgs, total=   0.0s\n",
            "[CV] max_iter=300, penalty=l2, solver=lbfgs ..........................\n",
            "[CV] ........... max_iter=300, penalty=l2, solver=lbfgs, total=   0.0s\n",
            "[CV] max_iter=300, penalty=l2, solver=liblinear ......................\n",
            "[CV] ....... max_iter=300, penalty=l2, solver=liblinear, total=   0.0s\n",
            "[CV] max_iter=300, penalty=l2, solver=liblinear ......................\n",
            "[CV] ....... max_iter=300, penalty=l2, solver=liblinear, total=   0.0s\n",
            "[CV] max_iter=300, penalty=l2, solver=liblinear ......................\n",
            "[CV] ....... max_iter=300, penalty=l2, solver=liblinear, total=   0.0s\n",
            "[CV] max_iter=300, penalty=l2, solver=liblinear ......................\n",
            "[CV] ....... max_iter=300, penalty=l2, solver=liblinear, total=   0.0s\n",
            "[CV] max_iter=300, penalty=l2, solver=liblinear ......................\n",
            "[CV] ....... max_iter=300, penalty=l2, solver=liblinear, total=   0.0s\n",
            "[CV] max_iter=300, penalty=elasticnet, solver=newton-cg ..............\n",
            "[CV]  max_iter=300, penalty=elasticnet, solver=newton-cg, total=   0.0s\n",
            "[CV] max_iter=300, penalty=elasticnet, solver=newton-cg ..............\n",
            "[CV]  max_iter=300, penalty=elasticnet, solver=newton-cg, total=   0.0s\n",
            "[CV] max_iter=300, penalty=elasticnet, solver=newton-cg ..............\n",
            "[CV]  max_iter=300, penalty=elasticnet, solver=newton-cg, total=   0.0s\n",
            "[CV] max_iter=300, penalty=elasticnet, solver=newton-cg ..............\n",
            "[CV]  max_iter=300, penalty=elasticnet, solver=newton-cg, total=   0.0s\n",
            "[CV] max_iter=300, penalty=elasticnet, solver=newton-cg ..............\n",
            "[CV]  max_iter=300, penalty=elasticnet, solver=newton-cg, total=   0.0s\n",
            "[CV] max_iter=300, penalty=elasticnet, solver=lbfgs ..................\n",
            "[CV] ... max_iter=300, penalty=elasticnet, solver=lbfgs, total=   0.0s\n",
            "[CV] max_iter=300, penalty=elasticnet, solver=lbfgs ..................\n",
            "[CV] ... max_iter=300, penalty=elasticnet, solver=lbfgs, total=   0.0s\n",
            "[CV] max_iter=300, penalty=elasticnet, solver=lbfgs ..................\n",
            "[CV] ... max_iter=300, penalty=elasticnet, solver=lbfgs, total=   0.0s\n",
            "[CV] max_iter=300, penalty=elasticnet, solver=lbfgs ..................\n",
            "[CV] ... max_iter=300, penalty=elasticnet, solver=lbfgs, total=   0.0s\n",
            "[CV] max_iter=300, penalty=elasticnet, solver=lbfgs ..................\n",
            "[CV] ... max_iter=300, penalty=elasticnet, solver=lbfgs, total=   0.0s\n",
            "[CV] max_iter=300, penalty=elasticnet, solver=liblinear ..............\n",
            "[CV]  max_iter=300, penalty=elasticnet, solver=liblinear, total=   0.0s\n",
            "[CV] max_iter=300, penalty=elasticnet, solver=liblinear ..............\n",
            "[CV]  max_iter=300, penalty=elasticnet, solver=liblinear, total=   0.0s\n",
            "[CV] max_iter=300, penalty=elasticnet, solver=liblinear ..............\n",
            "[CV]  max_iter=300, penalty=elasticnet, solver=liblinear, total=   0.0s\n",
            "[CV] max_iter=300, penalty=elasticnet, solver=liblinear ..............\n",
            "[CV]  max_iter=300, penalty=elasticnet, solver=liblinear, total=   0.0s\n",
            "[CV] max_iter=300, penalty=elasticnet, solver=liblinear ..............\n",
            "[CV]  max_iter=300, penalty=elasticnet, solver=liblinear, total=   0.0s\n",
            "[CV] max_iter=400, penalty=l1, solver=newton-cg ......................\n",
            "[CV] ....... max_iter=400, penalty=l1, solver=newton-cg, total=   0.0s\n",
            "[CV] max_iter=400, penalty=l1, solver=newton-cg ......................\n",
            "[CV] ....... max_iter=400, penalty=l1, solver=newton-cg, total=   0.0s\n",
            "[CV] max_iter=400, penalty=l1, solver=newton-cg ......................\n",
            "[CV] ....... max_iter=400, penalty=l1, solver=newton-cg, total=   0.0s\n",
            "[CV] max_iter=400, penalty=l1, solver=newton-cg ......................\n",
            "[CV] ....... max_iter=400, penalty=l1, solver=newton-cg, total=   0.0s\n",
            "[CV] max_iter=400, penalty=l1, solver=newton-cg ......................\n",
            "[CV] ....... max_iter=400, penalty=l1, solver=newton-cg, total=   0.0s\n",
            "[CV] max_iter=400, penalty=l1, solver=lbfgs ..........................\n",
            "[CV] ........... max_iter=400, penalty=l1, solver=lbfgs, total=   0.0s\n",
            "[CV] max_iter=400, penalty=l1, solver=lbfgs ..........................\n",
            "[CV] ........... max_iter=400, penalty=l1, solver=lbfgs, total=   0.0s\n",
            "[CV] max_iter=400, penalty=l1, solver=lbfgs ..........................\n",
            "[CV] ........... max_iter=400, penalty=l1, solver=lbfgs, total=   0.0s\n",
            "[CV] max_iter=400, penalty=l1, solver=lbfgs ..........................\n",
            "[CV] ........... max_iter=400, penalty=l1, solver=lbfgs, total=   0.0s\n",
            "[CV] max_iter=400, penalty=l1, solver=lbfgs ..........................\n",
            "[CV] ........... max_iter=400, penalty=l1, solver=lbfgs, total=   0.0s\n",
            "[CV] max_iter=400, penalty=l1, solver=liblinear ......................\n",
            "[CV] ....... max_iter=400, penalty=l1, solver=liblinear, total=   0.0s\n",
            "[CV] max_iter=400, penalty=l1, solver=liblinear ......................\n",
            "[CV] ....... max_iter=400, penalty=l1, solver=liblinear, total=   0.0s\n",
            "[CV] max_iter=400, penalty=l1, solver=liblinear ......................\n",
            "[CV] ....... max_iter=400, penalty=l1, solver=liblinear, total=   0.0s\n",
            "[CV] max_iter=400, penalty=l1, solver=liblinear ......................\n",
            "[CV] ....... max_iter=400, penalty=l1, solver=liblinear, total=   0.0s\n",
            "[CV] max_iter=400, penalty=l1, solver=liblinear ......................\n",
            "[CV] ....... max_iter=400, penalty=l1, solver=liblinear, total=   0.0s\n",
            "[CV] max_iter=400, penalty=l2, solver=newton-cg ......................\n",
            "[CV] ....... max_iter=400, penalty=l2, solver=newton-cg, total=   0.0s\n",
            "[CV] max_iter=400, penalty=l2, solver=newton-cg ......................\n",
            "[CV] ....... max_iter=400, penalty=l2, solver=newton-cg, total=   0.0s\n",
            "[CV] max_iter=400, penalty=l2, solver=newton-cg ......................\n",
            "[CV] ....... max_iter=400, penalty=l2, solver=newton-cg, total=   0.0s\n",
            "[CV] max_iter=400, penalty=l2, solver=newton-cg ......................\n",
            "[CV] ....... max_iter=400, penalty=l2, solver=newton-cg, total=   0.0s\n",
            "[CV] max_iter=400, penalty=l2, solver=newton-cg ......................\n"
          ]
        },
        {
          "output_type": "stream",
          "name": "stderr",
          "text": [
            "/usr/local/lib/python3.7/dist-packages/sklearn/model_selection/_validation.py:536: FitFailedWarning:\n",
            "\n",
            "Estimator fit failed. The score on this train-test partition for these parameters will be set to nan. Details: \n",
            "ValueError: Solver newton-cg supports only 'l2' or 'none' penalties, got elasticnet penalty.\n",
            "\n",
            "\n",
            "/usr/local/lib/python3.7/dist-packages/sklearn/model_selection/_validation.py:536: FitFailedWarning:\n",
            "\n",
            "Estimator fit failed. The score on this train-test partition for these parameters will be set to nan. Details: \n",
            "ValueError: Solver lbfgs supports only 'l2' or 'none' penalties, got elasticnet penalty.\n",
            "\n",
            "\n",
            "/usr/local/lib/python3.7/dist-packages/sklearn/model_selection/_validation.py:536: FitFailedWarning:\n",
            "\n",
            "Estimator fit failed. The score on this train-test partition for these parameters will be set to nan. Details: \n",
            "ValueError: Only 'saga' solver supports elasticnet penalty, got solver=liblinear.\n",
            "\n",
            "\n",
            "/usr/local/lib/python3.7/dist-packages/sklearn/model_selection/_validation.py:536: FitFailedWarning:\n",
            "\n",
            "Estimator fit failed. The score on this train-test partition for these parameters will be set to nan. Details: \n",
            "ValueError: Solver newton-cg supports only 'l2' or 'none' penalties, got l1 penalty.\n",
            "\n",
            "\n",
            "/usr/local/lib/python3.7/dist-packages/sklearn/model_selection/_validation.py:536: FitFailedWarning:\n",
            "\n",
            "Estimator fit failed. The score on this train-test partition for these parameters will be set to nan. Details: \n",
            "ValueError: Solver lbfgs supports only 'l2' or 'none' penalties, got l1 penalty.\n",
            "\n",
            "\n"
          ]
        },
        {
          "output_type": "stream",
          "name": "stdout",
          "text": [
            "[CV] ....... max_iter=400, penalty=l2, solver=newton-cg, total=   0.0s\n",
            "[CV] max_iter=400, penalty=l2, solver=lbfgs ..........................\n",
            "[CV] ........... max_iter=400, penalty=l2, solver=lbfgs, total=   0.0s\n",
            "[CV] max_iter=400, penalty=l2, solver=lbfgs ..........................\n",
            "[CV] ........... max_iter=400, penalty=l2, solver=lbfgs, total=   0.0s\n",
            "[CV] max_iter=400, penalty=l2, solver=lbfgs ..........................\n",
            "[CV] ........... max_iter=400, penalty=l2, solver=lbfgs, total=   0.0s\n",
            "[CV] max_iter=400, penalty=l2, solver=lbfgs ..........................\n",
            "[CV] ........... max_iter=400, penalty=l2, solver=lbfgs, total=   0.0s\n",
            "[CV] max_iter=400, penalty=l2, solver=lbfgs ..........................\n",
            "[CV] ........... max_iter=400, penalty=l2, solver=lbfgs, total=   0.0s\n",
            "[CV] max_iter=400, penalty=l2, solver=liblinear ......................\n",
            "[CV] ....... max_iter=400, penalty=l2, solver=liblinear, total=   0.0s\n",
            "[CV] max_iter=400, penalty=l2, solver=liblinear ......................\n",
            "[CV] ....... max_iter=400, penalty=l2, solver=liblinear, total=   0.0s\n",
            "[CV] max_iter=400, penalty=l2, solver=liblinear ......................\n",
            "[CV] ....... max_iter=400, penalty=l2, solver=liblinear, total=   0.0s\n",
            "[CV] max_iter=400, penalty=l2, solver=liblinear ......................\n",
            "[CV] ....... max_iter=400, penalty=l2, solver=liblinear, total=   0.0s\n",
            "[CV] max_iter=400, penalty=l2, solver=liblinear ......................\n",
            "[CV] ....... max_iter=400, penalty=l2, solver=liblinear, total=   0.0s\n",
            "[CV] max_iter=400, penalty=elasticnet, solver=newton-cg ..............\n",
            "[CV]  max_iter=400, penalty=elasticnet, solver=newton-cg, total=   0.0s\n",
            "[CV] max_iter=400, penalty=elasticnet, solver=newton-cg ..............\n",
            "[CV]  max_iter=400, penalty=elasticnet, solver=newton-cg, total=   0.0s\n",
            "[CV] max_iter=400, penalty=elasticnet, solver=newton-cg ..............\n",
            "[CV]  max_iter=400, penalty=elasticnet, solver=newton-cg, total=   0.0s\n",
            "[CV] max_iter=400, penalty=elasticnet, solver=newton-cg ..............\n",
            "[CV]  max_iter=400, penalty=elasticnet, solver=newton-cg, total=   0.0s\n",
            "[CV] max_iter=400, penalty=elasticnet, solver=newton-cg ..............\n",
            "[CV]  max_iter=400, penalty=elasticnet, solver=newton-cg, total=   0.0s\n",
            "[CV] max_iter=400, penalty=elasticnet, solver=lbfgs ..................\n",
            "[CV] ... max_iter=400, penalty=elasticnet, solver=lbfgs, total=   0.0s\n",
            "[CV] max_iter=400, penalty=elasticnet, solver=lbfgs ..................\n",
            "[CV] ... max_iter=400, penalty=elasticnet, solver=lbfgs, total=   0.0s\n",
            "[CV] max_iter=400, penalty=elasticnet, solver=lbfgs ..................\n",
            "[CV] ... max_iter=400, penalty=elasticnet, solver=lbfgs, total=   0.0s\n",
            "[CV] max_iter=400, penalty=elasticnet, solver=lbfgs ..................\n",
            "[CV] ... max_iter=400, penalty=elasticnet, solver=lbfgs, total=   0.0s\n",
            "[CV] max_iter=400, penalty=elasticnet, solver=lbfgs ..................\n",
            "[CV] ... max_iter=400, penalty=elasticnet, solver=lbfgs, total=   0.0s\n",
            "[CV] max_iter=400, penalty=elasticnet, solver=liblinear ..............\n",
            "[CV]  max_iter=400, penalty=elasticnet, solver=liblinear, total=   0.0s\n",
            "[CV] max_iter=400, penalty=elasticnet, solver=liblinear ..............\n",
            "[CV]  max_iter=400, penalty=elasticnet, solver=liblinear, total=   0.0s\n",
            "[CV] max_iter=400, penalty=elasticnet, solver=liblinear ..............\n",
            "[CV]  max_iter=400, penalty=elasticnet, solver=liblinear, total=   0.0s\n",
            "[CV] max_iter=400, penalty=elasticnet, solver=liblinear ..............\n",
            "[CV]  max_iter=400, penalty=elasticnet, solver=liblinear, total=   0.0s\n",
            "[CV] max_iter=400, penalty=elasticnet, solver=liblinear ..............\n",
            "[CV]  max_iter=400, penalty=elasticnet, solver=liblinear, total=   0.0s\n"
          ]
        },
        {
          "output_type": "stream",
          "name": "stderr",
          "text": [
            "/usr/local/lib/python3.7/dist-packages/sklearn/model_selection/_validation.py:536: FitFailedWarning:\n",
            "\n",
            "Estimator fit failed. The score on this train-test partition for these parameters will be set to nan. Details: \n",
            "ValueError: Solver newton-cg supports only 'l2' or 'none' penalties, got elasticnet penalty.\n",
            "\n",
            "\n",
            "/usr/local/lib/python3.7/dist-packages/sklearn/model_selection/_validation.py:536: FitFailedWarning:\n",
            "\n",
            "Estimator fit failed. The score on this train-test partition for these parameters will be set to nan. Details: \n",
            "ValueError: Solver lbfgs supports only 'l2' or 'none' penalties, got elasticnet penalty.\n",
            "\n",
            "\n",
            "/usr/local/lib/python3.7/dist-packages/sklearn/model_selection/_validation.py:536: FitFailedWarning:\n",
            "\n",
            "Estimator fit failed. The score on this train-test partition for these parameters will be set to nan. Details: \n",
            "ValueError: Only 'saga' solver supports elasticnet penalty, got solver=liblinear.\n",
            "\n",
            "\n",
            "[Parallel(n_jobs=1)]: Done 225 out of 225 | elapsed:    1.2s finished\n",
            "/usr/local/lib/python3.7/dist-packages/sklearn/utils/optimize.py:212: ConvergenceWarning:\n",
            "\n",
            "newton-cg failed to converge. Increase the number of iterations.\n",
            "\n"
          ]
        },
        {
          "output_type": "execute_result",
          "data": {
            "text/plain": [
              "GridSearchCV(cv=5, error_score=nan,\n",
              "             estimator=LogisticRegression(C=1.0, class_weight=None, dual=False,\n",
              "                                          fit_intercept=True,\n",
              "                                          intercept_scaling=1, l1_ratio=None,\n",
              "                                          max_iter=100, multi_class='auto',\n",
              "                                          n_jobs=None, penalty='l2',\n",
              "                                          random_state=None, solver='lbfgs',\n",
              "                                          tol=0.0001, verbose=0,\n",
              "                                          warm_start=False),\n",
              "             iid='deprecated', n_jobs=1,\n",
              "             param_grid={'max_iter': [10, 100, 200, 300, 400],\n",
              "                         'penalty': ['l1', 'l2', 'elasticnet'],\n",
              "                         'solver': ['newton-cg', 'lbfgs', 'liblinear']},\n",
              "             pre_dispatch='2*n_jobs', refit=True, return_train_score=False,\n",
              "             scoring='accuracy', verbose=2)"
            ]
          },
          "metadata": {},
          "execution_count": 29
        }
      ]
    },
    {
      "cell_type": "code",
      "metadata": {
        "colab": {
          "base_uri": "https://localhost:8080/"
        },
        "id": "amJiK1TzDaYG",
        "outputId": "1bcedaa6-6501-49d3-d0aa-ee4a633f91ce"
      },
      "source": [
        "log_search.best_params_"
      ],
      "execution_count": 34,
      "outputs": [
        {
          "output_type": "execute_result",
          "data": {
            "text/plain": [
              "{'max_iter': 10, 'penalty': 'l2', 'solver': 'newton-cg'}"
            ]
          },
          "metadata": {},
          "execution_count": 34
        }
      ]
    },
    {
      "cell_type": "code",
      "metadata": {
        "id": "n3EFycKuECxc"
      },
      "source": [
        "pred= log_reg.predict(x_test)"
      ],
      "execution_count": 36,
      "outputs": []
    },
    {
      "cell_type": "code",
      "metadata": {
        "colab": {
          "base_uri": "https://localhost:8080/"
        },
        "id": "UETIkSB2ERT5",
        "outputId": "69dee295-f38f-4a8f-ceeb-9d1b036e5ff4"
      },
      "source": [
        "pred"
      ],
      "execution_count": 37,
      "outputs": [
        {
          "output_type": "execute_result",
          "data": {
            "text/plain": [
              "array([1, 0, 1, 1, 1, 0, 0, 0, 1, 1, 0, 0])"
            ]
          },
          "metadata": {},
          "execution_count": 37
        }
      ]
    },
    {
      "cell_type": "code",
      "metadata": {
        "id": "SMUmYdLPEX-a"
      },
      "source": [
        "p=log_reg.predict([[20,70,56]])"
      ],
      "execution_count": 38,
      "outputs": []
    },
    {
      "cell_type": "code",
      "metadata": {
        "colab": {
          "base_uri": "https://localhost:8080/"
        },
        "id": "VZokL9kHEr6H",
        "outputId": "dc5c0f00-dc3e-421e-8e95-d43a318e486e"
      },
      "source": [
        "p"
      ],
      "execution_count": 39,
      "outputs": [
        {
          "output_type": "execute_result",
          "data": {
            "text/plain": [
              "array([1])"
            ]
          },
          "metadata": {},
          "execution_count": 39
        }
      ]
    },
    {
      "cell_type": "code",
      "metadata": {
        "colab": {
          "base_uri": "https://localhost:8080/"
        },
        "id": "B_qJgS-GEyJv",
        "outputId": "1331b4a6-7983-4325-eb22-04db71558585"
      },
      "source": [
        "log_reg.score(x_test, pred)"
      ],
      "execution_count": 41,
      "outputs": [
        {
          "output_type": "execute_result",
          "data": {
            "text/plain": [
              "1.0"
            ]
          },
          "metadata": {},
          "execution_count": 41
        }
      ]
    },
    {
      "cell_type": "code",
      "metadata": {
        "id": "5PeVgS9IE9fJ"
      },
      "source": [
        ""
      ],
      "execution_count": null,
      "outputs": []
    }
  ]
}